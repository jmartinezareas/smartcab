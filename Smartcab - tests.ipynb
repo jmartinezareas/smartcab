{
 "cells": [
  {
   "cell_type": "markdown",
   "metadata": {
    "heading_collapsed": true
   },
   "source": [
    "## self.Q dictionary"
   ]
  },
  {
   "cell_type": "code",
   "execution_count": 21,
   "metadata": {
    "hidden": true
   },
   "outputs": [],
   "source": [
    "self_Q = {\n",
    " ('left', 'red', None, 'right', None, '30'): \n",
    "    {None :     3, \n",
    "    'forward' : 4, \n",
    "    'left' :    3, \n",
    "    'right' :   4},\n",
    "    \n",
    " ('left', 'green', None, 'left', None, '20'): \n",
    "    {None :     10, \n",
    "    'forward' : 11, \n",
    "    'left' :    12, \n",
    "    'right' :   13},\n",
    "    \n",
    " ('up', 'red', None, 'right', None, '10'): \n",
    "    {None :      0, \n",
    "     'forward' : 0, \n",
    "     'left' :    0, \n",
    "     'right' :   0}\n",
    "}"
   ]
  },
  {
   "cell_type": "code",
   "execution_count": 23,
   "metadata": {
    "hidden": true
   },
   "outputs": [
    {
     "data": {
      "text/html": [
       "<div>\n",
       "<style scoped>\n",
       "    .dataframe tbody tr th:only-of-type {\n",
       "        vertical-align: middle;\n",
       "    }\n",
       "\n",
       "    .dataframe tbody tr th {\n",
       "        vertical-align: top;\n",
       "    }\n",
       "\n",
       "    .dataframe thead tr th {\n",
       "        text-align: left;\n",
       "    }\n",
       "</style>\n",
       "<table border=\"1\" class=\"dataframe\">\n",
       "  <thead>\n",
       "    <tr>\n",
       "      <th></th>\n",
       "      <th colspan=\"2\" halign=\"left\">left</th>\n",
       "      <th>up</th>\n",
       "    </tr>\n",
       "    <tr>\n",
       "      <th></th>\n",
       "      <th>green</th>\n",
       "      <th>red</th>\n",
       "      <th>red</th>\n",
       "    </tr>\n",
       "    <tr>\n",
       "      <th></th>\n",
       "      <th>NaN</th>\n",
       "      <th>NaN</th>\n",
       "      <th>NaN</th>\n",
       "    </tr>\n",
       "    <tr>\n",
       "      <th></th>\n",
       "      <th>left</th>\n",
       "      <th>right</th>\n",
       "      <th>right</th>\n",
       "    </tr>\n",
       "    <tr>\n",
       "      <th></th>\n",
       "      <th>NaN</th>\n",
       "      <th>NaN</th>\n",
       "      <th>NaN</th>\n",
       "    </tr>\n",
       "    <tr>\n",
       "      <th></th>\n",
       "      <th>20</th>\n",
       "      <th>30</th>\n",
       "      <th>10</th>\n",
       "    </tr>\n",
       "  </thead>\n",
       "  <tbody>\n",
       "    <tr>\n",
       "      <th>NaN</th>\n",
       "      <td>10</td>\n",
       "      <td>3</td>\n",
       "      <td>0</td>\n",
       "    </tr>\n",
       "    <tr>\n",
       "      <th>forward</th>\n",
       "      <td>11</td>\n",
       "      <td>4</td>\n",
       "      <td>0</td>\n",
       "    </tr>\n",
       "    <tr>\n",
       "      <th>left</th>\n",
       "      <td>12</td>\n",
       "      <td>3</td>\n",
       "      <td>0</td>\n",
       "    </tr>\n",
       "    <tr>\n",
       "      <th>right</th>\n",
       "      <td>13</td>\n",
       "      <td>4</td>\n",
       "      <td>0</td>\n",
       "    </tr>\n",
       "  </tbody>\n",
       "</table>\n",
       "</div>"
      ],
      "text/plain": [
       "         left          up\n",
       "        green   red   red\n",
       "          NaN   NaN   NaN\n",
       "         left right right\n",
       "          NaN   NaN   NaN\n",
       "           20    30    10\n",
       "NaN        10     3     0\n",
       "forward    11     4     0\n",
       "left       12     3     0\n",
       "right      13     4     0"
      ]
     },
     "execution_count": 23,
     "metadata": {},
     "output_type": "execute_result"
    }
   ],
   "source": [
    "import pandas as pd\n",
    "pd.DataFrame.from_dict(self_Q)"
   ]
  },
  {
   "cell_type": "code",
   "execution_count": 167,
   "metadata": {
    "hidden": true
   },
   "outputs": [],
   "source": [
    "import numpy as np\n",
    "import random\n",
    "self_Q = dict()\n",
    "alpha = 0.5"
   ]
  },
  {
   "cell_type": "markdown",
   "metadata": {
    "heading_collapsed": true
   },
   "source": [
    "## state =self.build ()"
   ]
  },
  {
   "cell_type": "code",
   "execution_count": 180,
   "metadata": {
    "hidden": true
   },
   "outputs": [
    {
     "name": "stdout",
     "output_type": "stream",
     "text": [
      "('left', 'green', None, 'right', None, '30')\n"
     ]
    },
    {
     "data": {
      "text/html": [
       "<div>\n",
       "<style scoped>\n",
       "    .dataframe tbody tr th:only-of-type {\n",
       "        vertical-align: middle;\n",
       "    }\n",
       "\n",
       "    .dataframe tbody tr th {\n",
       "        vertical-align: top;\n",
       "    }\n",
       "\n",
       "    .dataframe thead tr th {\n",
       "        text-align: left;\n",
       "    }\n",
       "</style>\n",
       "<table border=\"1\" class=\"dataframe\">\n",
       "  <thead>\n",
       "    <tr>\n",
       "      <th></th>\n",
       "      <th>left</th>\n",
       "    </tr>\n",
       "    <tr>\n",
       "      <th></th>\n",
       "      <th>red</th>\n",
       "    </tr>\n",
       "    <tr>\n",
       "      <th></th>\n",
       "      <th>NaN</th>\n",
       "    </tr>\n",
       "    <tr>\n",
       "      <th></th>\n",
       "      <th>right</th>\n",
       "    </tr>\n",
       "    <tr>\n",
       "      <th></th>\n",
       "      <th>NaN</th>\n",
       "    </tr>\n",
       "    <tr>\n",
       "      <th></th>\n",
       "      <th>30</th>\n",
       "    </tr>\n",
       "  </thead>\n",
       "  <tbody>\n",
       "    <tr>\n",
       "      <th>NaN</th>\n",
       "      <td>1.0</td>\n",
       "    </tr>\n",
       "    <tr>\n",
       "      <th>forward</th>\n",
       "      <td>0.0</td>\n",
       "    </tr>\n",
       "    <tr>\n",
       "      <th>left</th>\n",
       "      <td>0.0</td>\n",
       "    </tr>\n",
       "    <tr>\n",
       "      <th>right</th>\n",
       "      <td>0.0</td>\n",
       "    </tr>\n",
       "  </tbody>\n",
       "</table>\n",
       "</div>"
      ],
      "text/plain": [
       "         left\n",
       "          red\n",
       "          NaN\n",
       "        right\n",
       "          NaN\n",
       "           30\n",
       "NaN       1.0\n",
       "forward   0.0\n",
       "left      0.0\n",
       "right     0.0"
      ]
     },
     "execution_count": 180,
     "metadata": {},
     "output_type": "execute_result"
    }
   ],
   "source": [
    "waypoint = 'left'\n",
    "inputs = {'light': 'green', 'oncoming': None, 'right': 'right', 'left': None}\n",
    "#inputs = inputs.values()\n",
    "inp1, inp2, inp3, inp4 = inputs.values()\n",
    "deadline = '30'\n",
    "state = (waypoint,inp1, inp2, inp3, inp4, deadline);\n",
    "print (state)\n",
    "pd.DataFrame.from_dict(self_Q)"
   ]
  },
  {
   "cell_type": "markdown",
   "metadata": {
    "heading_collapsed": true
   },
   "source": [
    "##  self.createQ (state)"
   ]
  },
  {
   "cell_type": "code",
   "execution_count": 181,
   "metadata": {
    "hidden": true
   },
   "outputs": [
    {
     "data": {
      "text/html": [
       "<div>\n",
       "<style scoped>\n",
       "    .dataframe tbody tr th:only-of-type {\n",
       "        vertical-align: middle;\n",
       "    }\n",
       "\n",
       "    .dataframe tbody tr th {\n",
       "        vertical-align: top;\n",
       "    }\n",
       "\n",
       "    .dataframe thead tr th {\n",
       "        text-align: left;\n",
       "    }\n",
       "</style>\n",
       "<table border=\"1\" class=\"dataframe\">\n",
       "  <thead>\n",
       "    <tr>\n",
       "      <th></th>\n",
       "      <th colspan=\"2\" halign=\"left\">left</th>\n",
       "    </tr>\n",
       "    <tr>\n",
       "      <th></th>\n",
       "      <th>green</th>\n",
       "      <th>red</th>\n",
       "    </tr>\n",
       "    <tr>\n",
       "      <th></th>\n",
       "      <th>NaN</th>\n",
       "      <th>NaN</th>\n",
       "    </tr>\n",
       "    <tr>\n",
       "      <th></th>\n",
       "      <th>right</th>\n",
       "      <th>right</th>\n",
       "    </tr>\n",
       "    <tr>\n",
       "      <th></th>\n",
       "      <th>NaN</th>\n",
       "      <th>NaN</th>\n",
       "    </tr>\n",
       "    <tr>\n",
       "      <th></th>\n",
       "      <th>30</th>\n",
       "      <th>30</th>\n",
       "    </tr>\n",
       "  </thead>\n",
       "  <tbody>\n",
       "    <tr>\n",
       "      <th>NaN</th>\n",
       "      <td>0</td>\n",
       "      <td>1.0</td>\n",
       "    </tr>\n",
       "    <tr>\n",
       "      <th>forward</th>\n",
       "      <td>0</td>\n",
       "      <td>0.0</td>\n",
       "    </tr>\n",
       "    <tr>\n",
       "      <th>left</th>\n",
       "      <td>0</td>\n",
       "      <td>0.0</td>\n",
       "    </tr>\n",
       "    <tr>\n",
       "      <th>right</th>\n",
       "      <td>0</td>\n",
       "      <td>0.0</td>\n",
       "    </tr>\n",
       "  </tbody>\n",
       "</table>\n",
       "</div>"
      ],
      "text/plain": [
       "         left      \n",
       "        green   red\n",
       "          NaN   NaN\n",
       "        right right\n",
       "          NaN   NaN\n",
       "           30    30\n",
       "NaN         0   1.0\n",
       "forward     0   0.0\n",
       "left        0   0.0\n",
       "right       0   0.0"
      ]
     },
     "execution_count": 181,
     "metadata": {},
     "output_type": "execute_result"
    }
   ],
   "source": [
    "if state not in self_Q: self_Q[state] = {None : 0,'forward' : 0,'left' : 0,'right' : 0}\n",
    "self_Q\n",
    "self_Q[state][None]\n",
    "pd.DataFrame.from_dict(self_Q)"
   ]
  },
  {
   "cell_type": "markdown",
   "metadata": {
    "heading_collapsed": true
   },
   "source": [
    "## action = self.choose_action (state)"
   ]
  },
  {
   "cell_type": "code",
   "execution_count": 185,
   "metadata": {
    "hidden": true
   },
   "outputs": [
    {
     "name": "stdout",
     "output_type": "stream",
     "text": [
      "['forward', 'right', None, 'left']\n",
      "forward\n"
     ]
    }
   ],
   "source": [
    "actions_high_Qvalue = []\n",
    "              #print(self.Q[state])\n",
    "for i_action in self_Q[state]:\n",
    "    if self_Q[state].get(i_action) == np.max(self_Q[state].values()):\n",
    "        actions_high_Qvalue.append(i_action)\n",
    "        #print(actions_high_Qvalue)\n",
    "action = random.choice(actions_high_Qvalue)\n",
    "print(actions_high_Qvalue)\n",
    "print (action)"
   ]
  },
  {
   "cell_type": "markdown",
   "metadata": {
    "heading_collapsed": true
   },
   "source": [
    "## reward = self.env.act(self.action)"
   ]
  },
  {
   "cell_type": "code",
   "execution_count": 186,
   "metadata": {
    "hidden": true
   },
   "outputs": [
    {
     "name": "stdout",
     "output_type": "stream",
     "text": [
      "('forward', 2)\n"
     ]
    }
   ],
   "source": [
    "if action == None: reward = 1 \n",
    "elif action == 'forward': reward = 2\n",
    "elif action == 'left': reward = 3\n",
    "elif action == 'right': reward = 4\n",
    "print(action,reward)"
   ]
  },
  {
   "cell_type": "markdown",
   "metadata": {
    "heading_collapsed": true
   },
   "source": [
    "## self.learn (state, action, reward) "
   ]
  },
  {
   "cell_type": "code",
   "execution_count": 187,
   "metadata": {
    "hidden": true
   },
   "outputs": [
    {
     "name": "stdout",
     "output_type": "stream",
     "text": [
      "0\n",
      "1.0\n",
      "         left      \n",
      "        green   red\n",
      "          NaN   NaN\n",
      "        right right\n",
      "          NaN   NaN\n",
      "           30    30\n",
      "NaN       0.0   1.0\n",
      "forward   1.0   0.0\n",
      "left      0.0   0.0\n",
      "right     0.0   0.0\n"
     ]
    }
   ],
   "source": [
    "print (self_Q[state][action])\n",
    "self_Q[state][action] += alpha*reward\n",
    "print (self_Q[state][action])\n",
    "print (pd.DataFrame.from_dict(self_Q))"
   ]
  },
  {
   "cell_type": "code",
   "execution_count": 204,
   "metadata": {
    "hidden": true
   },
   "outputs": [],
   "source": [
    "epsilon = 1"
   ]
  },
  {
   "cell_type": "code",
   "execution_count": 220,
   "metadata": {
    "hidden": true,
    "scrolled": true
   },
   "outputs": [
    {
     "name": "stdout",
     "output_type": "stream",
     "text": [
      "0\n",
      "1\n",
      "('calculated epsilon:', 0.95)\n",
      "random action\n",
      "1\n",
      "0.95\n",
      "('calculated epsilon:', 0.8999999999999999)\n",
      "highest Q-value\n",
      "2\n",
      "0.9\n",
      "('calculated epsilon:', 0.8499999999999999)\n",
      "random action\n",
      "3\n",
      "0.85\n",
      "('calculated epsilon:', 0.7999999999999998)\n",
      "random action\n",
      "4\n",
      "0.8\n",
      "('calculated epsilon:', 0.7499999999999998)\n",
      "random action\n",
      "5\n",
      "0.75\n",
      "('calculated epsilon:', 0.6999999999999997)\n",
      "random action\n",
      "6\n",
      "0.7\n",
      "('calculated epsilon:', 0.6499999999999997)\n",
      "highest Q-value\n",
      "7\n",
      "0.65\n",
      "('calculated epsilon:', 0.5999999999999996)\n",
      "random action\n",
      "8\n",
      "0.6\n",
      "('calculated epsilon:', 0.5499999999999996)\n",
      "random action\n",
      "9\n",
      "0.55\n",
      "('calculated epsilon:', 0.4999999999999996)\n",
      "random action\n",
      "10\n",
      "0.5\n",
      "('calculated epsilon:', 0.4499999999999996)\n",
      "random action\n",
      "11\n",
      "0.45\n",
      "('calculated epsilon:', 0.39999999999999963)\n",
      "highest Q-value\n",
      "12\n",
      "0.4\n",
      "('calculated epsilon:', 0.34999999999999964)\n",
      "highest Q-value\n",
      "13\n",
      "0.35\n",
      "('calculated epsilon:', 0.29999999999999966)\n",
      "highest Q-value\n",
      "14\n",
      "0.3\n",
      "('calculated epsilon:', 0.24999999999999967)\n",
      "highest Q-value\n",
      "15\n",
      "0.25\n",
      "('calculated epsilon:', 0.19999999999999968)\n",
      "highest Q-value\n",
      "16\n",
      "0.2\n",
      "('calculated epsilon:', 0.1499999999999997)\n",
      "highest Q-value\n",
      "17\n",
      "0.15\n",
      "('calculated epsilon:', 0.09999999999999969)\n",
      "highest Q-value\n",
      "18\n",
      "0.1\n",
      "('calculated epsilon:', 0.049999999999999684)\n",
      "highest Q-value\n",
      "19\n",
      "0.05\n",
      "('calculated epsilon:', 0)\n",
      "highest Q-value\n",
      "20\n",
      "0\n",
      "('calculated epsilon:', 0)\n",
      "highest Q-value\n",
      "21\n",
      "0\n",
      "('calculated epsilon:', 0)\n",
      "highest Q-value\n",
      "22\n",
      "0\n",
      "('calculated epsilon:', 0)\n",
      "highest Q-value\n",
      "23\n",
      "0\n",
      "('calculated epsilon:', 0)\n",
      "highest Q-value\n",
      "24\n",
      "0\n",
      "('calculated epsilon:', 0)\n",
      "highest Q-value\n"
     ]
    }
   ],
   "source": [
    "epsilon = 1\n",
    "tolerance = 0.05\n",
    "for iteration in range(25):\n",
    "    print(iteration)\n",
    "    print(epsilon)\n",
    "    epsilon -= 0.05\n",
    "    if epsilon < 0: epsilon = 0\n",
    "    print('calculated epsilon:', epsilon)\n",
    "    action = np.random.choice(['random action','highest Q-value'], p = [epsilon, 1 - epsilon])\n",
    "    print (action)\n",
    "    "
   ]
  },
  {
   "cell_type": "markdown",
   "metadata": {},
   "source": [
    "## Improve the Q-Learning Driving Agent - Decaying function parameters.\n"
   ]
  },
  {
   "cell_type": "code",
   "execution_count": 3,
   "metadata": {},
   "outputs": [],
   "source": [
    "def epsilon_function(function, trials, epsilon, tolerance = 0, a = 0):\n",
    "    if function == 'linear_negative':\n",
    "        value = epsilon[len(epsilon)-1] - tolerance\n",
    "\n",
    "    elif function == 'a^t':\n",
    "        value = math.pow(a, trials [len(trials)-1])\n",
    "\n",
    "    elif function == '1/t^2':\n",
    "        value = 1/math.pow(trials [len(trials)-1],2)\n",
    "        \n",
    "    elif function == 'e^-at':\n",
    "        value = math.exp(-a*trials [len(trials)-1])\n",
    "    \n",
    "    elif function == 'cos(at)':\n",
    "        #print(a*trials [len(trials)-1])\n",
    "        value = math.cos(a*trials [len(trials)-1])\n",
    "    \n",
    "    return value"
   ]
  },
  {
   "cell_type": "code",
   "execution_count": 14,
   "metadata": {
    "scrolled": false
   },
   "outputs": [
    {
     "name": "stdout",
     "output_type": "stream",
     "text": [
      "[ 1.          0.999968    0.999928    0.999872    0.99980001  0.99971201\n",
      "  0.99960803  0.99948804  0.99935207  0.99920011  0.99903216  0.99884822\n",
      "  0.9986483   0.99843241  0.99820054  0.9979527   0.99768889  0.99740912\n",
      "  0.99711339  0.99680171  0.99647407  0.9961305   0.99577098  0.99539554\n",
      "  0.99500417  0.99459687  0.99417367  0.99373455  0.99327954  0.99280864\n",
      "  0.99232185  0.99181918  0.99130064  0.99076625  0.990216    0.9896499\n",
      "  0.98906798  0.98847022  0.98785666  0.98722728  0.98658211  0.98592116\n",
      "  0.98524443  0.98455194  0.98384369  0.98311971  0.98237999  0.98162455\n",
      "  0.98085341  0.98006658  0.97926406  0.97844588  0.97761204  0.97676256\n",
      "  0.97589745  0.97501673  0.9741204   0.97320849  0.97228101  0.97133797\n",
      "  0.9703794   0.96940529  0.96841568  0.96741057  0.96638998  0.96535393\n",
      "  0.96430243  0.96323551  0.96215317  0.96105544  0.95994233  0.95881386\n",
      "  0.95767005  0.95651092  0.95533649  0.95414677  0.95294178  0.95172155\n",
      "  0.95048609  0.94923542  0.94796956  0.94668854  0.94539237  0.94408107\n",
      "  0.94275467  0.94141318  0.94005663  0.93868504  0.93729843  0.93589682\n",
      "  0.93448024  0.93304871  0.93160225  0.93014088  0.92866464  0.92717353\n",
      "  0.92566759  0.92414683  0.92261129  0.92106099  0.91949596  0.91791621\n",
      "  0.91632177  0.91471267  0.91308894  0.9114506   0.90979767  0.90813019\n",
      "  0.90644818  0.90475166  0.90304067  0.90131523  0.89957537  0.89782112\n",
      "  0.8960525   0.89426954  0.89247228  0.89066073  0.88883494  0.88699492\n",
      "  0.88514072  0.88327235  0.88138984  0.87949324  0.87758256  0.87565784\n",
      "  0.87371912  0.87176641  0.86979975  0.86781918  0.86582472  0.86381641\n",
      "  0.86179428  0.85975836  0.85770868  0.85564528  0.85356819  0.85147744\n",
      "  0.84937307  0.84725511  0.84512359  0.84297855  0.84082003  0.83864805\n",
      "  0.83646265  0.83426387  0.83205174  0.8298263   0.82758758  0.82533561\n",
      "  0.82307045  0.82079211  0.81850064  0.81619608  0.81387846  0.81154781\n",
      "  0.80920418  0.8068476   0.80447812  0.80209576  0.79970057  0.79729258\n",
      "  0.79487183  0.79243837  0.78999223  0.78753345  0.78506207  0.78257813\n",
      "  0.78008166  0.77757272  0.77505133  0.77251755  0.7699714   0.76741293\n",
      "  0.76484219  0.7622592   0.75966403  0.75705669  0.75443725  0.75180573\n",
      "  0.74916218  0.74650665  0.74383917  0.7411598   0.73846856  0.73576551\n",
      "  0.73305068  0.73032413  0.72758589  0.72483601  0.72207453  0.7193015\n",
      "  0.71651696  0.71372096  0.71091354  0.70809474  0.70526461  0.7024232\n",
      "  0.69957055  0.69670671  0.69383172  0.69094563  0.68804848  0.68514033\n",
      "  0.68222121  0.67929117  0.67635027  0.67339855  0.67043605  0.66746283\n",
      "  0.66447892  0.66148439  0.65847927  0.65546361  0.65243747  0.64940089\n",
      "  0.64635391  0.6432966   0.64022899  0.63715114  0.6340631   0.63096491\n",
      "  0.62785663  0.62473829  0.62160997  0.6184717   0.61532353  0.61216552\n",
      "  0.60899771  0.60582016  0.60263291  0.59943603  0.59622955  0.59301353\n",
      "  0.58978803  0.58655308  0.58330876  0.5800551   0.57679216  0.57351999\n",
      "  0.57023864  0.56694817  0.56364863  0.56034007  0.55702255  0.55369611\n",
      "  0.55036081  0.54701671  0.54366386  0.54030231  0.53693211  0.53355332\n",
      "  0.530166    0.52677019  0.52336595  0.51995334  0.51653241  0.51310322\n",
      "  0.50966582  0.50622026  0.5027666   0.4993049   0.49583521  0.49235758\n",
      "  0.48887208  0.48537876  0.48187767  0.47836887  0.47485242  0.47132836\n",
      "  0.46779677  0.46425769  0.46071119  0.45715731  0.45359612  0.45002767\n",
      "  0.44645202  0.44286923  0.43927935  0.43568245  0.43207857  0.42846778\n",
      "  0.42485013  0.42122569  0.4175945   0.41395664  0.41031215  0.4066611\n",
      "  0.40300354  0.39933953  0.39566913  0.3919924   0.3883094   0.38462019\n",
      "  0.38092482  0.37722336  0.37351587  0.36980239  0.366083    0.36235775\n",
      "  0.35862671  0.35488993  0.35114746  0.34739938  0.34364575  0.33988661\n",
      "  0.33612203  0.33235208  0.32857681  0.32479628  0.32101056  0.3172197\n",
      "  0.31342376  0.30962281  0.30581691  0.30200611  0.29819048  0.29437008\n",
      "  0.29054497  0.28671521  0.28288086  0.27904199  0.27519865  0.27135091\n",
      "  0.26749883  0.26364247  0.25978189  0.25591715  0.25204832  0.24817545\n",
      "  0.24429862  0.24041787  0.23653328  0.23264491  0.22875281  0.22485705\n",
      "  0.22095769  0.2170548   0.21314844  0.20923867  0.20532554  0.20140914\n",
      "  0.19748951  0.19356672  0.18964083  0.18571191  0.18178002  0.17784522\n",
      "  0.17390757  0.16996714  0.16602399  0.16207819  0.15812979  0.15417886\n",
      "  0.15022547  0.14626967  0.14231153  0.13835112  0.13438849  0.13042371\n",
      "  0.12645684  0.12248795  0.1185171   0.11454436  0.11056978  0.10659343\n",
      "  0.10261538  0.09863568  0.09465441  0.09067162  0.08668739  0.08270176\n",
      "  0.07871481  0.07472661  0.0707372   0.06674667  0.06275506  0.05876246\n",
      "  0.05476891  0.05077448  0.04677925  0.04278326  0.0387866   0.03478931\n",
      "  0.03079146  0.02679312  0.02279435  0.01879522  0.01479579  0.01079612\n",
      "  0.00679627]\n",
      "[  1   2   3   4   5   6   7   8   9  10  11  12  13  14  15  16  17  18\n",
      "  19  20  21  22  23  24  25  26  27  28  29  30  31  32  33  34  35  36\n",
      "  37  38  39  40  41  42  43  44  45  46  47  48  49  50  51  52  53  54\n",
      "  55  56  57  58  59  60  61  62  63  64  65  66  67  68  69  70  71  72\n",
      "  73  74  75  76  77  78  79  80  81  82  83  84  85  86  87  88  89  90\n",
      "  91  92  93  94  95  96  97  98  99 100 101 102 103 104 105 106 107 108\n",
      " 109 110 111 112 113 114 115 116 117 118 119 120 121 122 123 124 125 126\n",
      " 127 128 129 130 131 132 133 134 135 136 137 138 139 140 141 142 143 144\n",
      " 145 146 147 148 149 150 151 152 153 154 155 156 157 158 159 160 161 162\n",
      " 163 164 165 166 167 168 169 170 171 172 173 174 175 176 177 178 179 180\n",
      " 181 182 183 184 185 186 187 188 189 190 191 192 193 194 195 196 197 198\n",
      " 199 200 201 202 203 204 205 206 207 208 209 210 211 212 213 214 215 216\n",
      " 217 218 219 220 221 222 223 224 225 226 227 228 229 230 231 232 233 234\n",
      " 235 236 237 238 239 240 241 242 243 244 245 246 247 248 249 250 251 252\n",
      " 253 254 255 256 257 258 259 260 261 262 263 264 265 266 267 268 269 270\n",
      " 271 272 273 274 275 276 277 278 279 280 281 282 283 284 285 286 287 288\n",
      " 289 290 291 292 293 294 295 296 297 298 299 300 301 302 303 304 305 306\n",
      " 307 308 309 310 311 312 313 314 315 316 317 318 319 320 321 322 323 324\n",
      " 325 326 327 328 329 330 331 332 333 334 335 336 337 338 339 340 341 342\n",
      " 343 344 345 346 347 348 349 350 351 352 353 354 355 356 357 358 359 360\n",
      " 361 362 363 364 365 366 367 368 369 370 371 372 373 374 375 376 377 378\n",
      " 379 380 381 382 383 384 385 386 387 388 389 390 391]\n"
     ]
    }
   ],
   "source": [
    "import math\n",
    "import numpy as np\n",
    "\n",
    "function = 'cos(at)'\n",
    "tolerance = .01\n",
    "a= 0.004\n",
    "trials = [1]\n",
    "epsilon = [1]\n",
    "\n",
    "while epsilon[len(epsilon) -1 ] > tolerance:\n",
    "    trials = np.append(trials, trials[len(trials) -1] + 1 )\n",
    "    epsilon = np.append(epsilon, epsilon_function(function, trials, epsilon, tolerance, a))  \n",
    "\n",
    "print(epsilon)\n",
    "print(trials)\n",
    "#math.pow(.5, 0)"
   ]
  },
  {
   "cell_type": "code",
   "execution_count": 6,
   "metadata": {},
   "outputs": [
    {
     "data": {
      "image/png": "[encoded data removed]",
      "text/plain": [
       "<matplotlib.figure.Figure at 0x30a7f98>"
      ]
     },
     "metadata": {},
     "output_type": "display_data"
    }
   ],
   "source": [
    "import matplotlib\n",
    "import matplotlib.pyplot as plt\n",
    "fig, ax = plt.subplots()\n",
    "ax.plot (trials, epsilon)\n",
    "plt.show()"
   ]
  }
 ],
 "metadata": {
  "kernelspec": {
   "display_name": "Python 2",
   "language": "python",
   "name": "python2"
  },
  "language_info": {
   "codemirror_mode": {
    "name": "ipython",
    "version": 2
   },
   "file_extension": ".py",
   "mimetype": "text/x-python",
   "name": "python",
   "nbconvert_exporter": "python",
   "pygments_lexer": "ipython2",
   "version": "2.7.14"
  }
 },
 "nbformat": 4,
 "nbformat_minor": 2
}
